{
 "cells": [
  {
   "cell_type": "markdown",
   "metadata": {},
   "source": [
    "This problem comes from OpenAI's [Requests for Research 2.0](https://blog.openai.com/requests-for-research-2/). And the description of this problem is as following:\n",
    "\n",
    "----\n",
    "\n",
    "Train an LSTM to solve the XOR problem: that is, given a sequence of bits, determine its parity. The LSTM should consume the sequence, one bit at a time, and then output the correct answer at the sequence’s end. Test the two approaches below:\n",
    "\n",
    "Generate a dataset of random 100,000 binary strings of length 50. Train the LSTM; what performance do you get?\n",
    "Generate a dataset of random 100,000 binary strings, where the length of each string is independently and randomly chosen between 1 and 50. Train the LSTM. Does it succeed? What explains the difference?"
   ]
  },
  {
   "cell_type": "code",
   "execution_count": 1,
   "metadata": {
    "collapsed": true,
    "scrolled": false
   },
   "outputs": [],
   "source": [
    "import numpy\n",
    "from tqdm import tqdm_notebook as tqdm\n",
    "from sklearn.model_selection import train_test_split\n",
    "from sklearn.linear_model import LogisticRegression\n",
    "from sklearn.metrics import accuracy_score\n",
    "from sklearn.svm import SVC\n",
    "import torch\n",
    "import torch.nn as nn\n",
    "from torch.autograd import Variable\n",
    "from torch.utils.data import Dataset, DataLoader\n",
    "from torch import optim\n",
    "from torch.nn.utils.rnn import pad_packed_sequence, pack_padded_sequence\n",
    "import seaborn as sns\n",
    "from matplotlib import pyplot as plt"
   ]
  },
  {
   "cell_type": "markdown",
   "metadata": {},
   "source": [
    "To keep results reproducible, we need to control all the random numbers"
   ]
  },
  {
   "cell_type": "markdown",
   "metadata": {},
   "source": [
    "# 1. Data generation and split"
   ]
  },
  {
   "cell_type": "code",
   "execution_count": 2,
   "metadata": {
    "collapsed": true
   },
   "outputs": [],
   "source": [
    "random_state=41"
   ]
  },
  {
   "cell_type": "code",
   "execution_count": 3,
   "metadata": {
    "collapsed": true
   },
   "outputs": [],
   "source": [
    "def generate_dataset(dataset_size, MAX_LEN, variable_length, random_state):\n",
    "    numpy.random.seed(random_state)\n",
    "    dataset=[]\n",
    "    targets=[]\n",
    "    for i in tqdm(range(dataset_size)):\n",
    "        if variable_length:\n",
    "            length=numpy.random.randint(2,MAX_LEN+1)\n",
    "        else:\n",
    "            length=MAX_LEN\n",
    "        dataset.append(numpy.random.randint(0,2,size=(length)))\n",
    "        labels=int(sum(dataset[-1])%2)\n",
    "        targets.append(labels)\n",
    "    return dataset,targets"
   ]
  },
  {
   "cell_type": "code",
   "execution_count": 34,
   "metadata": {
    "scrolled": true
   },
   "outputs": [
    {
     "data": {
      "application/vnd.jupyter.widget-view+json": {
       "model_id": "ec52a280e7d44e7888fc1c7c6dd7f89d",
       "version_major": 2,
       "version_minor": 0
      },
      "text/plain": [
       "A Jupyter Widget"
      ]
     },
     "metadata": {},
     "output_type": "display_data"
    },
    {
     "name": "stdout",
     "output_type": "stream",
     "text": [
      "\n"
     ]
    }
   ],
   "source": [
    "dataset,targets=generate_dataset(100000,50,True,random_state=41)"
   ]
  },
  {
   "cell_type": "markdown",
   "metadata": {},
   "source": [
    "Split the dataset into train+valid and test, then we can split train+valid into train and valid"
   ]
  },
  {
   "cell_type": "code",
   "execution_count": 35,
   "metadata": {
    "collapsed": true
   },
   "outputs": [],
   "source": [
    "X_train_valid, X_test, y_train_valid, y_test = train_test_split(dataset, targets, test_size=0.2, random_state=random_state)\n",
    "X_train, X_valid, y_train, y_valid = train_test_split(X_train_valid, y_train_valid, test_size=0.25, random_state=random_state)"
   ]
  },
  {
   "cell_type": "markdown",
   "metadata": {},
   "source": [
    "# 2. Baseline"
   ]
  },
  {
   "cell_type": "markdown",
   "metadata": {},
   "source": [
    "Now we can test the performance of our baseline: Logistic Regression.\n",
    "As the length could be variable, we need to padding those shorter sequences with zeros"
   ]
  },
  {
   "cell_type": "code",
   "execution_count": 36,
   "metadata": {
    "collapsed": true
   },
   "outputs": [],
   "source": [
    "def padding(x,length):\n",
    "    return list(x)+[0]*(length-len(x))\n",
    "def test_baseline(X_train, X_test, y_train, y_test):\n",
    "    length=[len(x) for x in X_train]\n",
    "    max_length=max(length)\n",
    "    X_train=[padding(x,max_length) for x in X_train]\n",
    "    X_test=[padding(x,max_length) for x in X_test]\n",
    "    clf=LogisticRegression(C=0.01, penalty='l1')\n",
    "    clf.fit(X_train,y_train)\n",
    "    y_pred=clf.predict(X_test)\n",
    "    return accuracy_score(y_test,y_pred)"
   ]
  },
  {
   "cell_type": "code",
   "execution_count": 37,
   "metadata": {},
   "outputs": [
    {
     "name": "stdout",
     "output_type": "stream",
     "text": [
      "Baseline accuracy is 0.4988\n"
     ]
    }
   ],
   "source": [
    "baseline_accuracy=test_baseline(X_train, X_test, y_train, y_test)\n",
    "print('Baseline accuracy is %0.4f'%baseline_accuracy)"
   ]
  },
  {
   "cell_type": "markdown",
   "metadata": {},
   "source": [
    "# 3. LSTM"
   ]
  },
  {
   "cell_type": "markdown",
   "metadata": {},
   "source": [
    "First, we need to generate batch data. Here we use class Dataset provided by pytorch"
   ]
  },
  {
   "cell_type": "code",
   "execution_count": 38,
   "metadata": {
    "collapsed": true
   },
   "outputs": [],
   "source": [
    "def collate_fn(data):\n",
    "    sequences=numpy.array([d[0] for d in data])\n",
    "    labels=numpy.array([d[1] for d in data])\n",
    "    return sequences,labels\n",
    "\n",
    "class XOR_Dataset(Dataset):\n",
    "    def __init__(self, dataset,target):\n",
    "        self.dataset=dataset\n",
    "        self.target=target\n",
    "\n",
    "    def __len__(self):\n",
    "        return len(self.dataset)\n",
    "\n",
    "    def __getitem__(self, idx):\n",
    "        return self.dataset[idx],self.target[idx]"
   ]
  },
  {
   "cell_type": "markdown",
   "metadata": {},
   "source": [
    "Then we can define our LSTM"
   ]
  },
  {
   "cell_type": "code",
   "execution_count": 39,
   "metadata": {
    "collapsed": true
   },
   "outputs": [],
   "source": [
    "class LSTM_CLF(nn.Module):\n",
    "    def __init__(self, emb_dim, hidden_size, use_cuda):\n",
    "        super(LSTM_CLF, self).__init__()\n",
    "        self.embedding = nn.Embedding(3, emb_dim)\n",
    "        self.hidden_size = hidden_size\n",
    "        self.rnn = nn.LSTM(\n",
    "            input_size=emb_dim,\n",
    "            hidden_size=hidden_size,\n",
    "            num_layers=1,\n",
    "        )\n",
    "        self.clf=nn.Sequential(\n",
    "            nn.Linear(hidden_size,2),\n",
    "        )\n",
    "        self.padding_idx=2\n",
    "        self.use_cuda=use_cuda\n",
    "        if self.use_cuda:\n",
    "            self.cuda()\n",
    "\n",
    "    def forward(self, sequences, lengths):\n",
    "        self.embedding.weight.data[self.padding_idx]=0\n",
    "        if self.use_cuda:\n",
    "            sequences=sequences.cuda()\n",
    "        sequences=Variable(sequences)\n",
    "        emb=self.embedding(sequences)\n",
    "        pack = pack_padded_sequence(emb, lengths, batch_first=True)\n",
    "        output, hidden = lstm.rnn(pack)\n",
    "        hidden=hidden[0].squeeze()\n",
    "        return self.clf(hidden)"
   ]
  },
  {
   "cell_type": "code",
   "execution_count": 54,
   "metadata": {
    "collapsed": true
   },
   "outputs": [],
   "source": [
    "def test_lstm(lstm,X_test,y_test,use_cuda):\n",
    "    sequences,labels,lengths=sort_and_padding(X_test,y_test,use_cuda)\n",
    "    final_layer=lstm(sequences,lengths)\n",
    "    y_pred=final_layer.topk(1)[1].cpu().data.numpy()\n",
    "    return accuracy_score(labels,y_pred)"
   ]
  },
  {
   "cell_type": "markdown",
   "metadata": {},
   "source": [
    "To handle variable length of the input sequences, we need to sort each batch according to their length.\n",
    "We also need to rearrange the labels accordig to the order of sequences."
   ]
  },
  {
   "cell_type": "code",
   "execution_count": 41,
   "metadata": {
    "collapsed": true
   },
   "outputs": [],
   "source": [
    "def sort_and_padding(sequences,labels,use_cuda):\n",
    "    '''\n",
    "    sequences: numpy.array\n",
    "    labels:numpy.array\n",
    "    '''\n",
    "    sequences=numpy.array(sequences)\n",
    "    labels=numpy.array(labels)\n",
    "    lengths = [len(x) for x in sequences]\n",
    "    lengths=Variable(torch.FloatTensor(lengths))\n",
    "    ordered_len,ordered_idx=lengths.sort(0, descending=True)\n",
    "    ordered_len=ordered_len.cpu().data.numpy().astype(numpy.int32)\n",
    "    sequences=sequences[ordered_idx.cpu().data.numpy()]\n",
    "    labels=labels[ordered_idx.cpu().data.numpy()]\n",
    "    for i in range(sequences.shape[0]):\n",
    "        padding_size=int(ordered_len[0]-ordered_len[i])\n",
    "        sequences[i]=numpy.append(sequences[i],numpy.ones(padding_size)*2)\n",
    "        sequences[i]=list(sequences[i].astype(numpy.int32))\n",
    "    sequences=numpy.array(list(sequences))\n",
    "    sequences=torch.LongTensor(sequences)\n",
    "    labels=torch.from_numpy(labels)\n",
    "    if use_cuda:\n",
    "        sequences=sequences.cuda()\n",
    "        labels=labels.cuda()\n",
    "    return sequences,labels,ordered_len"
   ]
  },
  {
   "cell_type": "code",
   "execution_count": 60,
   "metadata": {
    "collapsed": true
   },
   "outputs": [],
   "source": [
    "emb_dim=5\n",
    "hidden_size=10\n",
    "use_cuda=False\n",
    "MAX_ITER=11\n",
    "lr=0.001\n",
    "losses=[]\n",
    "best_loss=10000000\n",
    "valid_every=100\n",
    "idx=0\n",
    "batch_size=64\n",
    "lstm_train_dataset=XOR_Dataset(X_train,y_train)\n",
    "lstm=LSTM_CLF(emb_dim,hidden_size,use_cuda)\n",
    "optimizer = optim.Adam(lstm.parameters(), lr=lr)\n",
    "criteria=nn.CrossEntropyLoss()"
   ]
  },
  {
   "cell_type": "code",
   "execution_count": 63,
   "metadata": {
    "scrolled": false
   },
   "outputs": [
    {
     "data": {
      "application/vnd.jupyter.widget-view+json": {
       "model_id": "33816dcd986449e7be70ce4703da0479",
       "version_major": 2,
       "version_minor": 0
      },
      "text/plain": [
       "A Jupyter Widget"
      ]
     },
     "metadata": {},
     "output_type": "display_data"
    },
    {
     "name": "stdout",
     "output_type": "stream",
     "text": [
      "1.0\n",
      "\n"
     ]
    }
   ],
   "source": [
    "stop_training=False\n",
    "for epoch in tqdm(range(MAX_ITER)):\n",
    "    lstm_train=iter(DataLoader(lstm_train_dataset,batch_size=batch_size,collate_fn=collate_fn))\n",
    "    for sequences,labels in lstm_train:\n",
    "        sequences,labels,lengths=sort_and_padding(sequences,labels,use_cuda)\n",
    "        idx+=1\n",
    "        optimizer.zero_grad()\n",
    "        labels=Variable(labels)\n",
    "        final_layer=lstm.forward(sequences,lengths)\n",
    "        loss=criteria(final_layer,labels)\n",
    "        loss.backward()\n",
    "        optimizer.step()\n",
    "        losses.append(loss.cpu().data.numpy()[0])\n",
    "        if idx%valid_every==0:\n",
    "            sequences,labels,lengths=sort_and_padding(X_valid,y_valid,use_cuda)\n",
    "            labels=Variable(labels)\n",
    "            final_layer=lstm.forward(sequences,lengths)\n",
    "            loss=criteria(final_layer,labels)\n",
    "            loss=loss.cpu().data.numpy()[0]\n",
    "            if loss<best_loss:\n",
    "                best_valid_accuracy=test_lstm(lstm,X_valid,y_valid,use_cuda)\n",
    "                if best_valid_accuracy==1.0:\n",
    "                    print(test_lstm(lstm,X_test,y_test,use_cuda))\n",
    "                    stop_training=True\n",
    "                    break\n",
    "                print(test_lstm(lstm,X_test,y_test,use_cuda))\n",
    "    if stop_training:\n",
    "        break"
   ]
  },
  {
   "cell_type": "code",
   "execution_count": 62,
   "metadata": {},
   "outputs": [
    {
     "data": {
      "image/png": "[encoded data removed]",
      "text/plain": [
       "<matplotlib.figure.Figure at 0x7f9bf8ff3710>"
      ]
     },
     "metadata": {},
     "output_type": "display_data"
    }
   ],
   "source": [
    "plt.plot(losses)\n",
    "plt.show()"
   ]
  },
  {
   "cell_type": "code",
   "execution_count": 47,
   "metadata": {
    "collapsed": true
   },
   "outputs": [],
   "source": [
    "sequences,labels,lengths=sort_and_padding(X_test,y_test,use_cuda)\n",
    "labels=Variable(labels)\n",
    "final_layer=lstm(sequences,lengths)"
   ]
  },
  {
   "cell_type": "code",
   "execution_count": 56,
   "metadata": {},
   "outputs": [
    {
     "name": "stdout",
     "output_type": "stream",
     "text": [
      "1.0\n"
     ]
    }
   ],
   "source": [
    "print(test_lstm(lstm,X_test,y_test,use_cuda))"
   ]
  }
 ],
 "metadata": {
  "kernelspec": {
   "display_name": "Python 3",
   "language": "python",
   "name": "python3"
  },
  "language_info": {
   "codemirror_mode": {
    "name": "ipython",
    "version": 3
   },
   "file_extension": ".py",
   "mimetype": "text/x-python",
   "name": "python",
   "nbconvert_exporter": "python",
   "pygments_lexer": "ipython3",
   "version": "3.6.3"
  }
 },
 "nbformat": 4,
 "nbformat_minor": 2
}
