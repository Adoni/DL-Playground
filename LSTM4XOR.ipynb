{
 "cells": [
  {
   "cell_type": "markdown",
   "metadata": {},
   "source": [
    "This problem comes from OpenAI's [Requests for Research 2.0](https://blog.openai.com/requests-for-research-2/). And the description of this problem is as following:\n",
    "\n",
    "----\n",
    "\n",
    "Train an LSTM to solve the XOR problem: that is, given a sequence of bits, determine its parity. The LSTM should consume the sequence, one bit at a time, and then output the correct answer at the sequence’s end. Test the two approaches below:\n",
    "\n",
    "Generate a dataset of random 100,000 binary strings of length 50. Train the LSTM; what performance do you get?\n",
    "Generate a dataset of random 100,000 binary strings, where the length of each string is independently and randomly chosen between 1 and 50. Train the LSTM. Does it succeed? What explains the difference?"
   ]
  },
  {
   "cell_type": "code",
   "execution_count": 1,
   "metadata": {
    "collapsed": true,
    "scrolled": false
   },
   "outputs": [],
   "source": [
    "import numpy\n",
    "from tqdm import tqdm_notebook as tqdm\n",
    "from sklearn.model_selection import train_test_split\n",
    "from sklearn.linear_model import LogisticRegression\n",
    "from sklearn.metrics import accuracy_score\n",
    "from sklearn.svm import SVC\n",
    "import torch\n",
    "import torch.nn as nn\n",
    "from torch.autograd import Variable\n",
    "from torch.utils.data import Dataset, DataLoader\n",
    "from torch import optim\n",
    "from torch.nn.utils.rnn import pad_packed_sequence, pack_padded_sequence\n",
    "import seaborn as sns\n",
    "from matplotlib import pyplot as plt\n",
    "import datetime\n",
    "tqdm.monitor_interval = 0\n",
    "import pandas\n",
    "import pickle"
   ]
  },
  {
   "cell_type": "markdown",
   "metadata": {},
   "source": [
    "To keep results reproducible, we need to control all the random numbers"
   ]
  },
  {
   "cell_type": "code",
   "execution_count": 2,
   "metadata": {
    "collapsed": true
   },
   "outputs": [],
   "source": [
    "random_state=41"
   ]
  },
  {
   "cell_type": "markdown",
   "metadata": {},
   "source": [
    "# 1. Data generation and split"
   ]
  },
  {
   "cell_type": "markdown",
   "metadata": {},
   "source": [
    "First we need to generate sequences and their targets"
   ]
  },
  {
   "cell_type": "code",
   "execution_count": 3,
   "metadata": {
    "collapsed": true
   },
   "outputs": [],
   "source": [
    "def generate_sequences(sequences_size, lengthes, random_state):\n",
    "    numpy.random.seed(random_state)\n",
    "    sequences = []\n",
    "    labels = []\n",
    "    for i in tqdm(range(sequences_size)):\n",
    "        length=numpy.random.choice(lengthes)\n",
    "        sequences.append(numpy.random.randint(0, 2, size=(length)))\n",
    "        label = int(sum(sequences[-1]) % 2)\n",
    "        labels.append(label)\n",
    "    return sequences, labels"
   ]
  },
  {
   "cell_type": "markdown",
   "metadata": {},
   "source": [
    "Split the dataset into train+valid and test, then we can split train+valid into train and valid"
   ]
  },
  {
   "cell_type": "code",
   "execution_count": 4,
   "metadata": {
    "collapsed": true
   },
   "outputs": [],
   "source": [
    "def train_valid_test_split(sequences, labels, train_valid_test_sizes,\n",
    "                           random_state):\n",
    "    assert sum(train_valid_test_sizes) == 1.0\n",
    "    X_train_valid, X_test, y_train_valid, y_test = train_test_split(\n",
    "        sequences,\n",
    "        labels,\n",
    "        test_size=train_valid_test_sizes[2],\n",
    "        random_state=random_state)\n",
    "    X_train, X_valid, y_train, y_valid = train_test_split(\n",
    "        X_train_valid,\n",
    "        y_train_valid,\n",
    "        test_size=train_valid_test_sizes[1] /\n",
    "        (train_valid_test_sizes[0] + train_valid_test_sizes[1]),\n",
    "        random_state=random_state)\n",
    "    train = (X_train, y_train)\n",
    "    valid = (X_valid, y_valid)\n",
    "    test = (X_test, y_test)\n",
    "    return train, valid, test"
   ]
  },
  {
   "cell_type": "code",
   "execution_count": 5,
   "metadata": {
    "collapsed": true
   },
   "outputs": [],
   "source": [
    "def generate_dataset(sequences_size, lengthes, train_valid_test_sizes, random_state):\n",
    "    sequences, labels=generate_sequences(sequences_size, lengthes, random_state)\n",
    "    return train_valid_test_split(sequences, labels, train_valid_test_sizes, random_state)"
   ]
  },
  {
   "cell_type": "code",
   "execution_count": 6,
   "metadata": {
    "scrolled": true
   },
   "outputs": [
    {
     "data": {
      "application/vnd.jupyter.widget-view+json": {
       "model_id": "6bc662e7b8e44ad88c7f2a6726decfa0",
       "version_major": 2,
       "version_minor": 0
      },
      "text/plain": [
       "A Jupyter Widget"
      ]
     },
     "metadata": {},
     "output_type": "display_data"
    },
    {
     "name": "stdout",
     "output_type": "stream",
     "text": [
      "\n"
     ]
    },
    {
     "data": {
      "application/vnd.jupyter.widget-view+json": {
       "model_id": "1ac077d84c0b41ae8d1e4f3adcd68ced",
       "version_major": 2,
       "version_minor": 0
      },
      "text/plain": [
       "A Jupyter Widget"
      ]
     },
     "metadata": {},
     "output_type": "display_data"
    },
    {
     "name": "stdout",
     "output_type": "stream",
     "text": [
      "\n"
     ]
    }
   ],
   "source": [
    "fixed_dataset = generate_dataset(\n",
    "    100000, [50], [0.6, 0.2, 0.2], random_state)\n",
    "var_dataset = generate_dataset(\n",
    "    100000, list(range(1,51)), [0.6, 0.2, 0.2], random_state)"
   ]
  },
  {
   "cell_type": "markdown",
   "metadata": {},
   "source": [
    "# 2. Baseline"
   ]
  },
  {
   "cell_type": "markdown",
   "metadata": {},
   "source": [
    "Now we can test the performance of our baseline: Logistic Regression.\n",
    "As the length could be variable, we need to padding those shorter sequences with zeros"
   ]
  },
  {
   "cell_type": "code",
   "execution_count": 7,
   "metadata": {
    "collapsed": true
   },
   "outputs": [],
   "source": [
    "def padding(x, length):\n",
    "    return list(x) + [0] * (length - len(x))\n",
    "\n",
    "\n",
    "def test_baseline(train, test):\n",
    "    length = [len(x) for x in train[0]]\n",
    "    max_length = max(length)\n",
    "    X_train = [padding(x, max_length) for x in train[0]]\n",
    "    y_train = train[1]\n",
    "    X_test = [padding(x, max_length) for x in test[0]]\n",
    "    y_test = test[1]\n",
    "    clf = LogisticRegression(C=0.01, penalty='l1')\n",
    "    clf.fit(X_train, y_train)\n",
    "    y_pred = clf.predict(X_test)\n",
    "    return accuracy_score(y_test, y_pred)"
   ]
  },
  {
   "cell_type": "markdown",
   "metadata": {},
   "source": [
    "Test baseline: LogisticRegression"
   ]
  },
  {
   "cell_type": "code",
   "execution_count": 8,
   "metadata": {},
   "outputs": [
    {
     "name": "stdout",
     "output_type": "stream",
     "text": [
      "Baseline for fixed length dataset:    0.4980\n",
      "Baseline for variable length dataset: 0.5094\n"
     ]
    }
   ],
   "source": [
    "baseline_accuracy = test_baseline(fixed_dataset[0], fixed_dataset[1])\n",
    "print('Baseline for fixed length dataset:    %0.4f' % baseline_accuracy)\n",
    "baseline_accuracy = test_baseline(var_dataset[0], var_dataset[1])\n",
    "print('Baseline for variable length dataset: %0.4f' % baseline_accuracy)"
   ]
  },
  {
   "cell_type": "markdown",
   "metadata": {},
   "source": [
    "# 3. LSTM"
   ]
  },
  {
   "cell_type": "markdown",
   "metadata": {},
   "source": [
    "First, we need to generate batch data. Here we use class Dataset provided by pytorch"
   ]
  },
  {
   "cell_type": "code",
   "execution_count": 9,
   "metadata": {
    "collapsed": true
   },
   "outputs": [],
   "source": [
    "def collate_fn(data):\n",
    "    sequences = numpy.array([d[0] for d in data])\n",
    "    labels = numpy.array([d[1] for d in data])\n",
    "    return sequences, labels\n",
    "\n",
    "\n",
    "class XOR_Dataset(Dataset):\n",
    "    def __init__(self, dataset):\n",
    "        self.sequences = dataset[0]\n",
    "        self.label = dataset[1]\n",
    "\n",
    "    def __len__(self):\n",
    "        return len(self.sequences)\n",
    "\n",
    "    def __getitem__(self, idx):\n",
    "        return self.sequences[idx], self.label[idx]"
   ]
  },
  {
   "cell_type": "markdown",
   "metadata": {},
   "source": [
    "Then we can define our LSTM"
   ]
  },
  {
   "cell_type": "code",
   "execution_count": 10,
   "metadata": {
    "collapsed": true
   },
   "outputs": [],
   "source": [
    "class LSTM_CLF(nn.Module):\n",
    "    def __init__(self, emb_dim, hidden_size, layer_number, use_cuda):\n",
    "        super(LSTM_CLF, self).__init__()\n",
    "        self.embedding = nn.Embedding(3, emb_dim)\n",
    "        self.hidden_size = hidden_size\n",
    "        self.rnn = nn.LSTM(\n",
    "            input_size=emb_dim,\n",
    "            hidden_size=hidden_size,\n",
    "            num_layers=layer_number,\n",
    "        )\n",
    "        self.clf = nn.Sequential(nn.Linear(hidden_size, 2), )\n",
    "        self.padding_idx = 2\n",
    "        self.use_cuda = use_cuda\n",
    "        if self.use_cuda:\n",
    "            self.cuda()\n",
    "\n",
    "    def forward(self, sequences, lengths):\n",
    "        self.embedding.weight.data[self.padding_idx] = 0\n",
    "        if self.use_cuda:\n",
    "            sequences = sequences.cuda()\n",
    "        sequences = Variable(sequences)\n",
    "        emb = self.embedding(sequences)\n",
    "        pack = pack_padded_sequence(emb, lengths, batch_first=True)\n",
    "        output, hidden = lstm.rnn(pack)\n",
    "        hidden = hidden[0][-1].squeeze()\n",
    "        return self.clf(hidden)"
   ]
  },
  {
   "cell_type": "code",
   "execution_count": 11,
   "metadata": {
    "collapsed": true
   },
   "outputs": [],
   "source": [
    "def test_lstm(lstm, test, use_cuda):\n",
    "    sequences, labels, lengths = sort_and_padding(test[0], test[1], use_cuda)\n",
    "    final_layer = lstm(sequences, lengths)\n",
    "    y_pred = final_layer.topk(1)[1].cpu().data.numpy()\n",
    "    return accuracy_score(labels, y_pred)"
   ]
  },
  {
   "cell_type": "markdown",
   "metadata": {},
   "source": [
    "To handle variable length of the input sequences, we need to sort each batch according to their length.\n",
    "We also need to rearrange the labels accordig to the order of sequences."
   ]
  },
  {
   "cell_type": "code",
   "execution_count": 12,
   "metadata": {
    "collapsed": true
   },
   "outputs": [],
   "source": [
    "def sort_and_padding(sequences, labels, use_cuda):\n",
    "    '''\n",
    "    sequences: numpy.array\n",
    "    labels:numpy.array\n",
    "    '''\n",
    "    sequences = numpy.array(sequences)\n",
    "    labels = numpy.array(labels)\n",
    "    lengths = [len(x) for x in sequences]\n",
    "    lengths = Variable(torch.FloatTensor(lengths))\n",
    "    ordered_len, ordered_idx = lengths.sort(0, descending=True)\n",
    "    ordered_len = ordered_len.cpu().data.numpy().astype(numpy.int32)\n",
    "    sequences = sequences[ordered_idx.cpu().data.numpy()]\n",
    "    labels = labels[ordered_idx.cpu().data.numpy()]\n",
    "    for i in range(sequences.shape[0]):\n",
    "        padding_size = int(ordered_len[0] - ordered_len[i])\n",
    "        sequences[i] = numpy.append(sequences[i], numpy.ones(padding_size) * 2)\n",
    "        sequences[i] = list(sequences[i].astype(numpy.int32))\n",
    "    sequences = numpy.array(list(sequences))\n",
    "    sequences = torch.LongTensor(sequences)\n",
    "    labels = torch.from_numpy(labels)\n",
    "    if use_cuda:\n",
    "        sequences = sequences.cuda()\n",
    "        labels = labels.cuda()\n",
    "    return sequences, labels, ordered_len"
   ]
  },
  {
   "cell_type": "markdown",
   "metadata": {},
   "source": [
    "Now we need to train the lstm model. To make things easier, we need to take all training process as a function so that we can just run this function again when we want to test different parameters.\n",
    "\n",
    "First, we need to know what we're interested in:\n",
    "\n",
    "* Accuracy of train, valid and test set\n",
    "* Losses\n",
    "* Running time\n",
    "\n",
    "Second, we also need to know which parameter we may change:\n",
    "\n",
    "* Different dataset (e.g. length, fixed/variable, batch size)\n",
    "* Different model (e.g. embedding dimension, hidden size, LSTM/GRU)\n",
    "* Different optimizer (e.g. optimizing algorithm, learning rate)\n",
    "* GPU or CPU"
   ]
  },
  {
   "cell_type": "code",
   "execution_count": 13,
   "metadata": {
    "collapsed": true
   },
   "outputs": [],
   "source": [
    "def train_lstm(model,\n",
    "               dataset,\n",
    "               optimizer,\n",
    "               batch_size,\n",
    "               use_cuda,\n",
    "               MAX_ITER=20,\n",
    "               use_tqdm=True,\n",
    "               time_test=False,\n",
    "               shuffle=True):\n",
    "    '''\n",
    "    Train LSTM model\n",
    "    Arguments:\n",
    "        model: lstm model\n",
    "        datasets (tuple): tuple of train,valid and test dataset. Each dataset is a list of binary sequences\n",
    "        optimizer: initilized optimizer\n",
    "        batch_size: int\n",
    "        use_cuda: if use GPU to accelerate training\n",
    "        MAX_ITER: maximum iteration when training.\n",
    "        use_tqdm: whenther to use tqdm to show the training process bar\n",
    "        time_test: time_test==True means we don't care the training result but the trainig speed.\n",
    "                    So we will only run for several epoch to evaluate the execution time \n",
    "        shuffle: whether shuffle dataset when using DataLoader\n",
    "    '''\n",
    "    criteria = nn.CrossEntropyLoss()\n",
    "    train, valid, test = dataset\n",
    "    lstm_train_dataset = DataLoader(\n",
    "        XOR_Dataset(train),\n",
    "        batch_size=batch_size,\n",
    "        collate_fn=collate_fn,\n",
    "        shuffle=shuffle)\n",
    "    stop_training = False\n",
    "    train_accuracy = []\n",
    "    valid_accuracy = []\n",
    "    test_accuracy = []\n",
    "    losses = []\n",
    "    running_time = []\n",
    "    best_loss = 10000000\n",
    "    valid_every = 1000\n",
    "    idx = 0\n",
    "    if use_tqdm:\n",
    "        process_bar = tqdm(range(MAX_ITER))\n",
    "    else:\n",
    "        process_bar = range(MAX_ITER)\n",
    "    for epoch in process_bar:\n",
    "        lstm_train = iter(lstm_train_dataset)\n",
    "        for sequences, labels in lstm_train:\n",
    "            start_time = datetime.datetime.now()\n",
    "            sequences, labels, lengths = sort_and_padding(\n",
    "                sequences, labels, use_cuda)\n",
    "            idx += 1\n",
    "            optimizer.zero_grad()\n",
    "            labels = Variable(labels)\n",
    "            final_layer = lstm.forward(sequences, lengths)\n",
    "            loss = criteria(final_layer, labels)\n",
    "            loss.backward()\n",
    "            optimizer.step()\n",
    "            losses.append(loss.cpu().data.numpy()[0])\n",
    "            end_time = datetime.datetime.now()\n",
    "            running_time.append((end_time - start_time).microseconds)\n",
    "            if time_test and len(running_time) > 10:\n",
    "                break\n",
    "            if idx % valid_every == 0:\n",
    "                train_accuracy.append(test_lstm(lstm, train, use_cuda))\n",
    "                valid_accuracy.append(test_lstm(lstm, valid, use_cuda))\n",
    "                test_accuracy.append(test_lstm(lstm, test, use_cuda))\n",
    "                if valid_accuracy[-1] == 1.0:\n",
    "                    stop_training = True\n",
    "                    break\n",
    "        if stop_training:\n",
    "            break\n",
    "\n",
    "    accuracy = train_accuracy, valid_accuracy, test_accuracy\n",
    "    return accuracy, losses, running_time"
   ]
  },
  {
   "cell_type": "markdown",
   "metadata": {},
   "source": [
    "# Fixed v.s. Variable"
   ]
  },
  {
   "cell_type": "code",
   "execution_count": 15,
   "metadata": {},
   "outputs": [
    {
     "data": {
      "application/vnd.jupyter.widget-view+json": {
       "model_id": "a89c5c684e844f4a948654c2043497b6",
       "version_major": 2,
       "version_minor": 0
      },
      "text/plain": [
       "A Jupyter Widget"
      ]
     },
     "metadata": {},
     "output_type": "display_data"
    }
   ],
   "source": [
    "use_cuda = True\n",
    "lstm = LSTM_CLF(emb_dim=5, hidden_size=5, layer_number=1, use_cuda=use_cuda)\n",
    "optimizer = optim.Adam(lstm.parameters(), lr=0.001)\n",
    "accuracy, losses, running_time = train_lstm(\n",
    "    lstm, var_dataset, optimizer, batch_size=64, use_cuda=use_cuda)"
   ]
  },
  {
   "cell_type": "code",
   "execution_count": 16,
   "metadata": {},
   "outputs": [
    {
     "data": {
      "image/png": "[encoded data removed]",
      "text/plain": [
       "<matplotlib.figure.Figure at 0x7f4e70d31cc0>"
      ]
     },
     "metadata": {},
     "output_type": "display_data"
    },
    {
     "data": {
      "image/png": "[encoded data removed]",
      "text/plain": [
       "<matplotlib.figure.Figure at 0x7f4e61a43eb8>"
      ]
     },
     "metadata": {},
     "output_type": "display_data"
    },
    {
     "name": "stderr",
     "output_type": "stream",
     "text": [
      "Exception in thread Thread-6:\n",
      "Traceback (most recent call last):\n",
      "  File \"/home/adoni/anaconda3/lib/python3.6/threading.py\", line 916, in _bootstrap_inner\n",
      "    self.run()\n",
      "  File \"/home/adoni/Keck/src/tqdm/tqdm/_tqdm.py\", line 144, in run\n",
      "    for instance in self.tqdm_cls._instances:\n",
      "  File \"/home/adoni/anaconda3/lib/python3.6/_weakrefset.py\", line 60, in __iter__\n",
      "    for itemref in self.data:\n",
      "RuntimeError: Set changed size during iteration\n",
      "\n"
     ]
    }
   ],
   "source": [
    "plt.plot(losses)\n",
    "plt.show()\n",
    "plt.plot(accuracy[0], label='Train')\n",
    "plt.plot(accuracy[1], label='Valid')\n",
    "plt.plot(accuracy[2], label='Test')\n",
    "plt.legend()\n",
    "plt.show()"
   ]
  },
  {
   "cell_type": "code",
   "execution_count": null,
   "metadata": {
    "collapsed": true
   },
   "outputs": [],
   "source": [
    "use_cuda = True\n",
    "lstm = LSTM_CLF(emb_dim=5, hidden_size=5, layer_number=1, use_cuda=use_cuda)\n",
    "optimizer = optim.Adam(lstm.parameters(), lr=0.001)\n",
    "accuracy, losses, _ = train_lstm(\n",
    "    lstm,\n",
    "    fixed_dataset,\n",
    "    optimizer,\n",
    "    batch_size=64,\n",
    "    use_cuda=use_cuda)"
   ]
  },
  {
   "cell_type": "code",
   "execution_count": 49,
   "metadata": {},
   "outputs": [
    {
     "data": {
      "image/png": "[encoded data removed]",
      "text/plain": [
       "<matplotlib.figure.Figure at 0x7f1414dde748>"
      ]
     },
     "metadata": {},
     "output_type": "display_data"
    },
    {
     "data": {
      "image/png": "[encoded data removed]",
      "text/plain": [
       "<matplotlib.figure.Figure at 0x7f1414ba63c8>"
      ]
     },
     "metadata": {},
     "output_type": "display_data"
    }
   ],
   "source": [
    "plt.plot(losses)\n",
    "plt.show()\n",
    "plt.plot(accuracy[0], label='Train')\n",
    "plt.plot(accuracy[1], label='Valid')\n",
    "plt.plot(accuracy[2], label='Test')\n",
    "plt.legend()\n",
    "plt.show()"
   ]
  },
  {
   "cell_type": "markdown",
   "metadata": {},
   "source": [
    "These figures tell us that the performance on variable-length dataset is very good, while the model training on fixed-length dataset is not better than monkey."
   ]
  },
  {
   "cell_type": "markdown",
   "metadata": {},
   "source": [
    "My intuiation is that the recursion number on the long sequence is so large and there are so many optimizing direction. However, in variable-length dataset, the model will be trained on both short and long sequence. So the model will get more information about how to ajust the weight.\n",
    "\n",
    "I gonna use two ways to test our idea.\n",
    "\n",
    "First, we will see how the accuracy change we we remove some short sequences. That means the smallest sequence length varying from 1 to 10"
   ]
  },
  {
   "cell_type": "code",
   "execution_count": 51,
   "metadata": {
    "scrolled": false
   },
   "outputs": [
    {
     "data": {
      "application/vnd.jupyter.widget-view+json": {
       "model_id": "d5ded0704a7b4f1a824d9f98f9e81d49",
       "version_major": 2,
       "version_minor": 0
      },
      "text/plain": [
       "A Jupyter Widget"
      ]
     },
     "metadata": {},
     "output_type": "display_data"
    },
    {
     "data": {
      "application/vnd.jupyter.widget-view+json": {
       "model_id": "873677a82d0e464189484010f679ab6c",
       "version_major": 2,
       "version_minor": 0
      },
      "text/plain": [
       "A Jupyter Widget"
      ]
     },
     "metadata": {},
     "output_type": "display_data"
    },
    {
     "data": {
      "application/vnd.jupyter.widget-view+json": {
       "model_id": "b98f926d0b584f4b90297900ce0d2109",
       "version_major": 2,
       "version_minor": 0
      },
      "text/plain": [
       "A Jupyter Widget"
      ]
     },
     "metadata": {},
     "output_type": "display_data"
    },
    {
     "data": {
      "application/vnd.jupyter.widget-view+json": {
       "model_id": "b9e51b80b4ec43718ff86a404422fc20",
       "version_major": 2,
       "version_minor": 0
      },
      "text/plain": [
       "A Jupyter Widget"
      ]
     },
     "metadata": {},
     "output_type": "display_data"
    },
    {
     "data": {
      "application/vnd.jupyter.widget-view+json": {
       "model_id": "03299fa3417a4a9bb720d5e2878a0ef0",
       "version_major": 2,
       "version_minor": 0
      },
      "text/plain": [
       "A Jupyter Widget"
      ]
     },
     "metadata": {},
     "output_type": "display_data"
    },
    {
     "data": {
      "application/vnd.jupyter.widget-view+json": {
       "model_id": "b7de621ce959467eb93cbcc58275e9d7",
       "version_major": 2,
       "version_minor": 0
      },
      "text/plain": [
       "A Jupyter Widget"
      ]
     },
     "metadata": {},
     "output_type": "display_data"
    }
   ],
   "source": [
    "accuracy_wrt_min_length=[]\n",
    "lenth_range=list(range(1, 10, 2))\n",
    "for min_length in tqdm(lenth_range):\n",
    "    dataset = generate_dataset(100000, list(range(min_length, 51)),\n",
    "                                   [0.6, 0.2, 0.2], random_state)\n",
    "    use_cuda=True\n",
    "    lstm = LSTM_CLF(emb_dim=5, hidden_size=5,  layer_number=1, use_cuda=use_cuda)\n",
    "    optimizer = optim.Adam(lstm.parameters(), lr=0.001)\n",
    "    accuracy,losses,_=train_lstm(lstm, dataset, optimizer, batch_size=64, use_cuda=use_cuda, use_tqdm=False)\n",
    "    accuracy_wrt_min_length.append(max(accuracy[2]))"
   ]
  },
  {
   "cell_type": "code",
   "execution_count": 53,
   "metadata": {},
   "outputs": [
    {
     "data": {
      "image/png": "[encoded data removed]",
      "text/plain": [
       "<matplotlib.figure.Figure at 0x7f1414cdc320>"
      ]
     },
     "metadata": {},
     "output_type": "display_data"
    }
   ],
   "source": [
    "plt.plot(lenth_range, accuracy_wrt_min_length)\n",
    "plt.show()"
   ]
  },
  {
   "cell_type": "markdown",
   "metadata": {},
   "source": [
    "Also, we want to know if the converging speed would be different when we sort our dataset with different order (increase v.s. decrease)"
   ]
  },
  {
   "cell_type": "code",
   "execution_count": 54,
   "metadata": {},
   "outputs": [
    {
     "data": {
      "application/vnd.jupyter.widget-view+json": {
       "model_id": "17e8c194f52d41c2ba3c65ad02684bc5",
       "version_major": 2,
       "version_minor": 0
      },
      "text/plain": [
       "A Jupyter Widget"
      ]
     },
     "metadata": {},
     "output_type": "display_data"
    }
   ],
   "source": [
    "var_dataset = generate_dataset(100000, list(range(1, 51)), [0.6, 0.2, 0.2],\n",
    "                               random_state)\n",
    "\n",
    "dataset = dict()\n",
    "dataset['original'] = var_dataset\n",
    "dataset['increase'] = (sorted(var_dataset[0], key=len), var_dataset[1],\n",
    "                       var_dataset[2])\n",
    "dataset['decrease'] = (sorted(var_dataset[0], key=len, reverse=True),\n",
    "                       var_dataset[1], var_dataset[2])\n",
    "use_cuda = True\n",
    "\n",
    "keys = ['original', 'increase', 'decrease']\n",
    "results = []\n",
    "for key in keys:\n",
    "    lstm = LSTM_CLF(\n",
    "        emb_dim=5, hidden_size=5, layer_number=1, use_cuda=use_cuda)\n",
    "    optimizer = optim.Adam(lstm.parameters(), lr=0.001)\n",
    "    accuracy, losses, _ = train_lstm(\n",
    "        lstm,\n",
    "        dataset[key],\n",
    "        optimizer,\n",
    "        batch_size=64,\n",
    "        use_cuda=use_cuda,\n",
    "        use_tqdm=True,\n",
    "        shuffle=False)\n",
    "    results.append([accuracy, losses])"
   ]
  },
  {
   "cell_type": "code",
   "execution_count": 55,
   "metadata": {},
   "outputs": [
    {
     "data": {
      "image/png": "[encoded data removed]",
      "text/plain": [
       "<matplotlib.figure.Figure at 0x7f1415db9860>"
      ]
     },
     "metadata": {},
     "output_type": "display_data"
    }
   ],
   "source": [
    "for idx, key in enumerate(keys):\n",
    "    plt.plot(results[idx][1], label=key)\n",
    "plt.legend()\n",
    "plt.show()"
   ]
  },
  {
   "cell_type": "markdown",
   "metadata": {},
   "source": [
    "# Running time"
   ]
  },
  {
   "cell_type": "markdown",
   "metadata": {},
   "source": [
    "We want to see the execution speed of w.r.t. different device, embedding dimension, layer number and batch size.\n",
    "\n",
    "To make things easier, we gonna make hidden size equal to embedding size."
   ]
  },
  {
   "cell_type": "code",
   "execution_count": 17,
   "metadata": {},
   "outputs": [
    {
     "data": {
      "application/vnd.jupyter.widget-view+json": {
       "model_id": "bededfbbe6e0404ea0d397668eee2f05",
       "version_major": 2,
       "version_minor": 0
      },
      "text/plain": [
       "A Jupyter Widget"
      ]
     },
     "metadata": {},
     "output_type": "display_data"
    },
    {
     "data": {
      "application/vnd.jupyter.widget-view+json": {
       "model_id": "f78fcdb84563436fa9b89dbf10feb05c",
       "version_major": 2,
       "version_minor": 0
      },
      "text/plain": [
       "A Jupyter Widget"
      ]
     },
     "metadata": {},
     "output_type": "display_data"
    }
   ],
   "source": [
    "running_time = pandas.DataFrame(\n",
    "    [],\n",
    "    columns=[\n",
    "        'Time', 'Device', 'Embedding Dimension', 'Layer Number'\n",
    "    ])\n",
    "embedding_dimensions = list(range(50, 650, 100))\n",
    "layer_numbers = [1, 2, 3, 4, 5, 6]\n",
    "for use_cuda in [False, True]:\n",
    "    for emb_dim in tqdm(embedding_dimensions):\n",
    "        for layer_number in layer_numbers:\n",
    "            lstm = LSTM_CLF(\n",
    "                emb_dim=emb_dim,\n",
    "                hidden_size=emb_dim,\n",
    "                layer_number=layer_number,\n",
    "                use_cuda=use_cuda)\n",
    "            optimizer = optim.Adam(lstm.parameters(), lr=0.001)\n",
    "            _, _, rt = train_lstm(\n",
    "                lstm,\n",
    "                var_dataset,\n",
    "                optimizer,\n",
    "                batch_size=64,\n",
    "                use_cuda=use_cuda,\n",
    "                MAX_ITER=1,\n",
    "                use_tqdm=False,\n",
    "                time_test=True)\n",
    "            device = 'GPU' if use_cuda else 'CPU'\n",
    "            data = []\n",
    "            for t in rt:\n",
    "                data.append([t, device, emb_dim, layer_number])\n",
    "            new_df = pandas.DataFrame(data, columns=running_time.columns)\n",
    "            running_time = pandas.concat([running_time, new_df])"
   ]
  },
  {
   "cell_type": "code",
   "execution_count": 27,
   "metadata": {},
   "outputs": [
    {
     "data": {
      "image/png": "[encoded data removed]",
      "text/plain": [
       "<matplotlib.figure.Figure at 0x7f4e62b12ef0>"
      ]
     },
     "metadata": {},
     "output_type": "display_data"
    }
   ],
   "source": [
    "sns.factorplot(\n",
    "    x=\"Embedding Dimension\",\n",
    "    y=\"Time\",\n",
    "    hue=\"Layer Number\",\n",
    "    col=\"Device\",\n",
    "    data=running_time[running_time['Embedding Dimension'] < 450],\n",
    "    capsize=.2,\n",
    "    size=6,\n",
    "    aspect=1)\n",
    "plt.show()"
   ]
  },
  {
   "cell_type": "code",
   "execution_count": 24,
   "metadata": {},
   "outputs": [
    {
     "name": "stdout",
     "output_type": "stream",
     "text": [
      "\n"
     ]
    },
    {
     "data": {
      "image/png": "[encoded data removed]",
      "text/plain": [
       "<matplotlib.figure.Figure at 0x7f4e680e8be0>"
      ]
     },
     "metadata": {},
     "output_type": "display_data"
    }
   ],
   "source": [
    "sns.factorplot(\n",
    "    x=\"Embedding Dimension\",\n",
    "    y=\"Time\",\n",
    "    hue=\"Device\",\n",
    "    col=\"Layer Number\",\n",
    "    data=running_time[running_time['Embedding Dimension'] < 450],\n",
    "    capsize=.2,\n",
    "    size=6,\n",
    "    aspect=.75)\n",
    "plt.show()"
   ]
  },
  {
   "cell_type": "markdown",
   "metadata": {},
   "source": [
    "Good thing is from this two pictures we can conclude that the GPU is faster than CPU.\n",
    "The advantage of GPU will be even larger withe the increase of embedding dimension\n",
    "\n",
    "Bad thing is the curve is weird when layer_number>4, in which case the running time going down when embedding size larger than 450."
   ]
  },
  {
   "cell_type": "markdown",
   "metadata": {},
   "source": [
    "Another conclusion is that with CPU execution time will increase with embedding dimension and layer number,\n",
    "while GPU execution time didn't show sensitive to that. That may because the bottleneck is not the GPU operation.\n",
    "\n",
    "To test this idea, we would like to test the bottleneck of train_lstm"
   ]
  },
  {
   "cell_type": "code",
   "execution_count": 29,
   "metadata": {
    "collapsed": true
   },
   "outputs": [],
   "source": [
    "%load_ext line_profiler"
   ]
  },
  {
   "cell_type": "code",
   "execution_count": 30,
   "metadata": {},
   "outputs": [
    {
     "data": {
      "application/vnd.jupyter.widget-view+json": {
       "model_id": "947d1a52691247f787b7d426f41f1873",
       "version_major": 2,
       "version_minor": 0
      },
      "text/plain": [
       "A Jupyter Widget"
      ]
     },
     "metadata": {},
     "output_type": "display_data"
    },
    {
     "name": "stdout",
     "output_type": "stream",
     "text": [
      "\n",
      "*** KeyboardInterrupt exception caught in code being profiled."
     ]
    }
   ],
   "source": [
    "%lprun -f train_lstm train_lstm(lstm, fixed_dataset, optimizer, batch_size=64, use_cuda=True)"
   ]
  },
  {
   "cell_type": "markdown",
   "metadata": {},
   "source": [
    "![](bottleneck.png)"
   ]
  },
  {
   "cell_type": "markdown",
   "metadata": {},
   "source": [
    "The bottleneck is indeed the forward and backward process. So the intuition may be wrong."
   ]
  },
  {
   "cell_type": "markdown",
   "metadata": {},
   "source": [
    "# Effect of differnt model"
   ]
  },
  {
   "cell_type": "code",
   "execution_count": 31,
   "metadata": {},
   "outputs": [
    {
     "data": {
      "application/vnd.jupyter.widget-view+json": {
       "model_id": "a5167ae093454bc7835580db1b018f7a",
       "version_major": 2,
       "version_minor": 0
      },
      "text/plain": [
       "A Jupyter Widget"
      ]
     },
     "metadata": {},
     "output_type": "display_data"
    },
    {
     "data": {
      "application/vnd.jupyter.widget-view+json": {
       "model_id": "e2e84f272b0d4dbf99b876d1b7608ad9",
       "version_major": 2,
       "version_minor": 0
      },
      "text/plain": [
       "A Jupyter Widget"
      ]
     },
     "metadata": {},
     "output_type": "display_data"
    },
    {
     "name": "stdout",
     "output_type": "stream",
     "text": [
      "\n"
     ]
    },
    {
     "name": "stderr",
     "output_type": "stream",
     "text": [
      "Exception in thread Thread-7:\n",
      "Traceback (most recent call last):\n",
      "  File \"/home/adoni/anaconda3/lib/python3.6/threading.py\", line 916, in _bootstrap_inner\n",
      "    self.run()\n",
      "  File \"/home/adoni/Keck/src/tqdm/tqdm/_tqdm.py\", line 144, in run\n",
      "    for instance in self.tqdm_cls._instances:\n",
      "  File \"/home/adoni/anaconda3/lib/python3.6/_weakrefset.py\", line 60, in __iter__\n",
      "    for itemref in self.data:\n",
      "RuntimeError: Set changed size during iteration\n",
      "\n"
     ]
    },
    {
     "name": "stdout",
     "output_type": "stream",
     "text": [
      "\n"
     ]
    },
    {
     "data": {
      "application/vnd.jupyter.widget-view+json": {
       "model_id": "cd219f256a6f430d9aca915010437bde",
       "version_major": 2,
       "version_minor": 0
      },
      "text/plain": [
       "A Jupyter Widget"
      ]
     },
     "metadata": {},
     "output_type": "display_data"
    },
    {
     "data": {
      "image/png": "[encoded data removed]",
      "text/plain": [
       "<matplotlib.figure.Figure at 0x7f4ee426fb70>"
      ]
     },
     "metadata": {},
     "output_type": "display_data"
    }
   ],
   "source": [
    "torch.cuda.manual_seed(random_state)\n",
    "torch.manual_seed(random_state)\n",
    "optimizing_losses=[]\n",
    "for layer_size in range(1,4):\n",
    "    use_cuda = True\n",
    "    lstm = LSTM_CLF(emb_dim=5, hidden_size=5, layer_number=layer_size, use_cuda=use_cuda)\n",
    "    optimizer = optim.Adam(lstm.parameters(), lr=0.001)\n",
    "    accuracy, losses, _ = train_lstm(\n",
    "        lstm, var_dataset, optimizer, batch_size=64, use_cuda=use_cuda)\n",
    "    plt.plot(losses,label='layer=%d'%layer_size)\n",
    "plt.legend()\n",
    "plt.show()"
   ]
  },
  {
   "cell_type": "markdown",
   "metadata": {},
   "source": [
    "It seems with more layers we can learn faster."
   ]
  },
  {
   "cell_type": "markdown",
   "metadata": {},
   "source": [
    "# Effect of batch size"
   ]
  },
  {
   "cell_type": "code",
   "execution_count": 32,
   "metadata": {},
   "outputs": [
    {
     "data": {
      "application/vnd.jupyter.widget-view+json": {
       "model_id": "3eaee99e6a704522a006d2f8d15c4a10",
       "version_major": 2,
       "version_minor": 0
      },
      "text/plain": [
       "A Jupyter Widget"
      ]
     },
     "metadata": {},
     "output_type": "display_data"
    },
    {
     "name": "stdout",
     "output_type": "stream",
     "text": [
      "\n"
     ]
    },
    {
     "name": "stderr",
     "output_type": "stream",
     "text": [
      "Exception in thread Thread-8:\n",
      "Traceback (most recent call last):\n",
      "  File \"/home/adoni/anaconda3/lib/python3.6/threading.py\", line 916, in _bootstrap_inner\n",
      "    self.run()\n",
      "  File \"/home/adoni/Keck/src/tqdm/tqdm/_tqdm.py\", line 144, in run\n",
      "    for instance in self.tqdm_cls._instances:\n",
      "  File \"/home/adoni/anaconda3/lib/python3.6/_weakrefset.py\", line 60, in __iter__\n",
      "    for itemref in self.data:\n",
      "RuntimeError: Set changed size during iteration\n",
      "\n"
     ]
    },
    {
     "name": "stdout",
     "output_type": "stream",
     "text": [
      "\n"
     ]
    },
    {
     "data": {
      "application/vnd.jupyter.widget-view+json": {
       "model_id": "ff6c70eeaaec4cc3bd030eaf43b98f38",
       "version_major": 2,
       "version_minor": 0
      },
      "text/plain": [
       "A Jupyter Widget"
      ]
     },
     "metadata": {},
     "output_type": "display_data"
    },
    {
     "data": {
      "application/vnd.jupyter.widget-view+json": {
       "model_id": "7199813d7b974ab1a6cbdb73ca9c2886",
       "version_major": 2,
       "version_minor": 0
      },
      "text/plain": [
       "A Jupyter Widget"
      ]
     },
     "metadata": {},
     "output_type": "display_data"
    },
    {
     "name": "stdout",
     "output_type": "stream",
     "text": [
      "\n"
     ]
    },
    {
     "name": "stderr",
     "output_type": "stream",
     "text": [
      "Exception in thread Thread-9:\n",
      "Traceback (most recent call last):\n",
      "  File \"/home/adoni/anaconda3/lib/python3.6/threading.py\", line 916, in _bootstrap_inner\n",
      "    self.run()\n",
      "  File \"/home/adoni/Keck/src/tqdm/tqdm/_tqdm.py\", line 144, in run\n",
      "    for instance in self.tqdm_cls._instances:\n",
      "  File \"/home/adoni/anaconda3/lib/python3.6/_weakrefset.py\", line 60, in __iter__\n",
      "    for itemref in self.data:\n",
      "RuntimeError: Set changed size during iteration\n",
      "\n"
     ]
    },
    {
     "name": "stdout",
     "output_type": "stream",
     "text": [
      "\n"
     ]
    },
    {
     "data": {
      "application/vnd.jupyter.widget-view+json": {
       "model_id": "7ddf7819c1ec479fb387b254e879dd67",
       "version_major": 2,
       "version_minor": 0
      },
      "text/plain": [
       "A Jupyter Widget"
      ]
     },
     "metadata": {},
     "output_type": "display_data"
    },
    {
     "data": {
      "application/vnd.jupyter.widget-view+json": {
       "model_id": "30b78c5aaec74c5493807d179ddbeaaf",
       "version_major": 2,
       "version_minor": 0
      },
      "text/plain": [
       "A Jupyter Widget"
      ]
     },
     "metadata": {},
     "output_type": "display_data"
    },
    {
     "name": "stdout",
     "output_type": "stream",
     "text": [
      "\n"
     ]
    },
    {
     "name": "stderr",
     "output_type": "stream",
     "text": [
      "Exception in thread Thread-10:\n",
      "Traceback (most recent call last):\n",
      "  File \"/home/adoni/anaconda3/lib/python3.6/threading.py\", line 916, in _bootstrap_inner\n",
      "    self.run()\n",
      "  File \"/home/adoni/Keck/src/tqdm/tqdm/_tqdm.py\", line 144, in run\n",
      "    for instance in self.tqdm_cls._instances:\n",
      "  File \"/home/adoni/anaconda3/lib/python3.6/_weakrefset.py\", line 60, in __iter__\n",
      "    for itemref in self.data:\n",
      "RuntimeError: Set changed size during iteration\n",
      "\n"
     ]
    },
    {
     "name": "stdout",
     "output_type": "stream",
     "text": [
      "\n"
     ]
    },
    {
     "data": {
      "image/png": "[encoded data removed]",
      "text/plain": [
       "<matplotlib.figure.Figure at 0x7f4e631612b0>"
      ]
     },
     "metadata": {},
     "output_type": "display_data"
    }
   ],
   "source": [
    "torch.cuda.manual_seed(random_state)\n",
    "torch.manual_seed(random_state)\n",
    "optimizing_losses = []\n",
    "for b_size in [16, 32, 64, 128, 256]:\n",
    "    use_cuda = True\n",
    "    lstm = LSTM_CLF(\n",
    "        emb_dim=5, hidden_size=5, layer_number=1, use_cuda=use_cuda)\n",
    "    optimizer = optim.Adam(lstm.parameters(), lr=0.001)\n",
    "    accuracy, losses, _ = train_lstm(\n",
    "        lstm, var_dataset, optimizer, batch_size=b_size, use_cuda=use_cuda)\n",
    "    instance_count=numpy.array(range(1,len(losses)+1))*b_size\n",
    "    plt.plot(instance_count, losses, label='batch size=%d' % b_size)\n",
    "plt.xlabel('Instances Count')\n",
    "plt.legend()\n",
    "plt.show()"
   ]
  },
  {
   "cell_type": "markdown",
   "metadata": {},
   "source": [
    "Here we plot the loss w.r.t. instances count to see the effect of batch size on converge speed.\n",
    "\n",
    "We can see that larger batch size will converge slower.\n",
    "As this problem is so easy, the advantage of larger batch size is not obvious"
   ]
  },
  {
   "cell_type": "markdown",
   "metadata": {},
   "source": [
    "# TODO\n",
    "\n",
    "* Different Optimize Algorithm: Now we only use Adam, but there are other options.\n",
    "* Explore more about why the performance is so bad on fixed-length dataset. Bugs or the limit of lstm.\n",
    "* Why GPU running time doesn't increase obviously with "
   ]
  }
 ],
 "metadata": {
  "kernelspec": {
   "display_name": "Python 3",
   "language": "python",
   "name": "python3"
  },
  "language_info": {
   "codemirror_mode": {
    "name": "ipython",
    "version": 3
   },
   "file_extension": ".py",
   "mimetype": "text/x-python",
   "name": "python",
   "nbconvert_exporter": "python",
   "pygments_lexer": "ipython3",
   "version": "3.6.3"
  },
  "widgets": {
   "application/vnd.jupyter.widget-state+json": {
    "state": {
     "0743e5fb369e4393940b7c0b3875a3c7": {
      "model_module": "@jupyter-widgets/controls",
      "model_module_version": "1.0.0",
      "model_name": "DescriptionStyleModel",
      "state": {
       "description_width": ""
      }
     },
     "0822595ff5c74c1d83c88b9370f4b11b": {
      "model_module": "@jupyter-widgets/controls",
      "model_module_version": "1.0.0",
      "model_name": "IntProgressModel",
      "state": {
       "bar_style": "success",
       "layout": "IPY_MODEL_b43d00773272448687eaac3507195dc6",
       "max": 100000,
       "style": "IPY_MODEL_98c6271902a44f6489bee2c9bbffbdd8",
       "value": 100000
      }
     },
     "08ed9e6426e545cd8acda5b874bbd4ea": {
      "model_module": "@jupyter-widgets/controls",
      "model_module_version": "1.0.0",
      "model_name": "ProgressStyleModel",
      "state": {
       "description_width": ""
      }
     },
     "0db2d9f0a5a64bd3b2113b798c88018e": {
      "model_module": "@jupyter-widgets/controls",
      "model_module_version": "1.0.0",
      "model_name": "ProgressStyleModel",
      "state": {
       "description_width": ""
      }
     },
     "10dd1f214bda4e64bd6faee38a6cfd6a": {
      "model_module": "@jupyter-widgets/controls",
      "model_module_version": "1.0.0",
      "model_name": "HTMLModel",
      "state": {
       "layout": "IPY_MODEL_c5d596d0cd75491ba3a5cef8c4841e94",
       "style": "IPY_MODEL_d036c27e2bf54d1a9998546d4ff76a31",
       "value": "100% 6/6 [03:58&lt;00:00, 39.83s/it]"
      }
     },
     "11be8d5efcf14f489fe5ecfa55ec500c": {
      "model_module": "@jupyter-widgets/base",
      "model_module_version": "1.0.0",
      "model_name": "LayoutModel",
      "state": {}
     },
     "16b956ce2180490a95f02159ae99da4a": {
      "model_module": "@jupyter-widgets/base",
      "model_module_version": "1.0.0",
      "model_name": "LayoutModel",
      "state": {}
     },
     "178c1f7288114aee8cdbf8b1f354011d": {
      "model_module": "@jupyter-widgets/controls",
      "model_module_version": "1.0.0",
      "model_name": "DescriptionStyleModel",
      "state": {
       "description_width": ""
      }
     },
     "18f9394d9ea64172b0bd9021fe6cbf87": {
      "model_module": "@jupyter-widgets/controls",
      "model_module_version": "1.0.0",
      "model_name": "ProgressStyleModel",
      "state": {
       "description_width": ""
      }
     },
     "1ac077d84c0b41ae8d1e4f3adcd68ced": {
      "model_module": "@jupyter-widgets/controls",
      "model_module_version": "1.0.0",
      "model_name": "HBoxModel",
      "state": {
       "children": [
        "IPY_MODEL_b94ac35e82a94796981813fb1426c00a",
        "IPY_MODEL_733691adfb1a4cf78fa06af8281131e9"
       ],
       "layout": "IPY_MODEL_581f23d1b32a4f38a12e9a2244520153"
      }
     },
     "1c483654ddfd4a2194113559f60853f3": {
      "model_module": "@jupyter-widgets/base",
      "model_module_version": "1.0.0",
      "model_name": "LayoutModel",
      "state": {}
     },
     "1ca81fb0e2f54a6cba2845d020cd61e7": {
      "model_module": "@jupyter-widgets/controls",
      "model_module_version": "1.0.0",
      "model_name": "DescriptionStyleModel",
      "state": {
       "description_width": ""
      }
     },
     "20a142ed4e03420f8e68a637aad2d0b0": {
      "model_module": "@jupyter-widgets/controls",
      "model_module_version": "1.0.0",
      "model_name": "HTMLModel",
      "state": {
       "layout": "IPY_MODEL_56499f6abcdf4dd2beac00cc88bbad44",
       "style": "IPY_MODEL_8f2508299dfd42f292e37bbbb48afaec",
       "value": " 60% 12/20 [00:57&lt;00:38,  4.81s/it]"
      }
     },
     "21b184815bd449a7add36d2ce8ca235c": {
      "model_module": "@jupyter-widgets/controls",
      "model_module_version": "1.0.0",
      "model_name": "HTMLModel",
      "state": {
       "layout": "IPY_MODEL_6425ac49951743d0872b0db477788a73",
       "style": "IPY_MODEL_a3f3326035404e51b32139966f6c8793",
       "value": " 15% 3/20 [00:50&lt;04:47, 16.89s/it]"
      }
     },
     "22c42aca53b1440a9440822c634baf1c": {
      "model_module": "@jupyter-widgets/controls",
      "model_module_version": "1.0.0",
      "model_name": "HTMLModel",
      "state": {
       "layout": "IPY_MODEL_8bdbc964a5044acab3ac77a9547218d0",
       "style": "IPY_MODEL_bd1b6840fd4a4464b9978e51299da0f7",
       "value": "100% 100000/100000 [00:01&lt;00:00, 66972.28it/s]"
      }
     },
     "23dbb6538e044be0a9e068f0c675692d": {
      "model_module": "@jupyter-widgets/controls",
      "model_module_version": "1.0.0",
      "model_name": "DescriptionStyleModel",
      "state": {
       "description_width": ""
      }
     },
     "26b243097d9347069856d64c6dbfb7bc": {
      "model_module": "@jupyter-widgets/base",
      "model_module_version": "1.0.0",
      "model_name": "LayoutModel",
      "state": {}
     },
     "2709b101d1c34f0f85e1bfdba7857994": {
      "model_module": "@jupyter-widgets/base",
      "model_module_version": "1.0.0",
      "model_name": "LayoutModel",
      "state": {}
     },
     "2dd023db51b144d1aa1ca4d754de764e": {
      "model_module": "@jupyter-widgets/controls",
      "model_module_version": "1.0.0",
      "model_name": "HTMLModel",
      "state": {
       "layout": "IPY_MODEL_1c483654ddfd4a2194113559f60853f3",
       "style": "IPY_MODEL_b2c5fe59c9eb43acb634a1c5414b01c1",
       "value": " 30% 6/20 [00:44&lt;01:43,  7.41s/it]"
      }
     },
     "2fac4f1a886b49b08219939012616399": {
      "model_module": "@jupyter-widgets/controls",
      "model_module_version": "1.0.0",
      "model_name": "ProgressStyleModel",
      "state": {
       "description_width": ""
      }
     },
     "30b78c5aaec74c5493807d179ddbeaaf": {
      "model_module": "@jupyter-widgets/controls",
      "model_module_version": "1.0.0",
      "model_name": "HBoxModel",
      "state": {
       "children": [
        "IPY_MODEL_64d4f0095aec4220af5c4200659b7e99",
        "IPY_MODEL_20a142ed4e03420f8e68a637aad2d0b0"
       ],
       "layout": "IPY_MODEL_5d760d4fb55a4a13b6dc0b09ec5660cd"
      }
     },
     "318c3615a64447b9847d5809aee413ea": {
      "model_module": "@jupyter-widgets/controls",
      "model_module_version": "1.0.0",
      "model_name": "HTMLModel",
      "state": {
       "layout": "IPY_MODEL_16b956ce2180490a95f02159ae99da4a",
       "style": "IPY_MODEL_762fbb04134d4852a94eefa976d8d7f9",
       "value": " 20% 4/20 [00:46&lt;03:05, 11.62s/it]"
      }
     },
     "3293a4ad56394a269057a658e9a04834": {
      "model_module": "@jupyter-widgets/base",
      "model_module_version": "1.0.0",
      "model_name": "LayoutModel",
      "state": {}
     },
     "38aaba08d4eb46789c03c3cbcdb52263": {
      "model_module": "@jupyter-widgets/base",
      "model_module_version": "1.0.0",
      "model_name": "LayoutModel",
      "state": {}
     },
     "3cb62a78a38640caa4339f4c2ec66eee": {
      "model_module": "@jupyter-widgets/controls",
      "model_module_version": "1.0.0",
      "model_name": "HTMLModel",
      "state": {
       "layout": "IPY_MODEL_8396dc422d00459fb903c0e80fca1bc4",
       "style": "IPY_MODEL_8409577b548d484ab9237f507e4c3b94",
       "value": "  5% 1/20 [00:10&lt;03:17, 10.40s/it]"
      }
     },
     "3cdb408fb1cf45478b93dff0de6adc98": {
      "model_module": "@jupyter-widgets/base",
      "model_module_version": "1.0.0",
      "model_name": "LayoutModel",
      "state": {}
     },
     "3eaee99e6a704522a006d2f8d15c4a10": {
      "model_module": "@jupyter-widgets/controls",
      "model_module_version": "1.0.0",
      "model_name": "HBoxModel",
      "state": {
       "children": [
        "IPY_MODEL_887fe6ee1cd74823bd7acc30750b1c5a",
        "IPY_MODEL_bf370ae8d0524e30b7dd2b9b0eaa5573"
       ],
       "layout": "IPY_MODEL_ca00d286997a4cf7ba7ef6ea44068bd4"
      }
     },
     "3ff1aede293d4e69875329e153fd86d8": {
      "model_module": "@jupyter-widgets/base",
      "model_module_version": "1.0.0",
      "model_name": "LayoutModel",
      "state": {}
     },
     "43bb0647f428483c8015831ee2ea9763": {
      "model_module": "@jupyter-widgets/controls",
      "model_module_version": "1.0.0",
      "model_name": "ProgressStyleModel",
      "state": {
       "description_width": ""
      }
     },
     "44dd460ffb6a4b2c93d4d6133414e2a6": {
      "model_module": "@jupyter-widgets/base",
      "model_module_version": "1.0.0",
      "model_name": "LayoutModel",
      "state": {}
     },
     "4878b33b4da34940ba50adebdedce9f3": {
      "model_module": "@jupyter-widgets/controls",
      "model_module_version": "1.0.0",
      "model_name": "DescriptionStyleModel",
      "state": {
       "description_width": ""
      }
     },
     "492b86a1db604e25bc3539cb5ff4c0ea": {
      "model_module": "@jupyter-widgets/controls",
      "model_module_version": "1.0.0",
      "model_name": "IntProgressModel",
      "state": {
       "bar_style": "danger",
       "layout": "IPY_MODEL_11be8d5efcf14f489fe5ecfa55ec500c",
       "max": 20,
       "style": "IPY_MODEL_0db2d9f0a5a64bd3b2113b798c88018e",
       "value": 1
      }
     },
     "49f0e36773334c14a86e781d34a734c5": {
      "model_module": "@jupyter-widgets/controls",
      "model_module_version": "1.0.0",
      "model_name": "ProgressStyleModel",
      "state": {
       "description_width": ""
      }
     },
     "4b50d57235494b42b78daeef68891391": {
      "model_module": "@jupyter-widgets/base",
      "model_module_version": "1.0.0",
      "model_name": "LayoutModel",
      "state": {}
     },
     "4d02fea1521a433c91465eea9284db84": {
      "model_module": "@jupyter-widgets/controls",
      "model_module_version": "1.0.0",
      "model_name": "DescriptionStyleModel",
      "state": {
       "description_width": ""
      }
     },
     "518a340c5ed44f13802113f074462ec4": {
      "model_module": "@jupyter-widgets/base",
      "model_module_version": "1.0.0",
      "model_name": "LayoutModel",
      "state": {}
     },
     "51bb038dd6d9484285ac61fe678eb884": {
      "model_module": "@jupyter-widgets/controls",
      "model_module_version": "1.0.0",
      "model_name": "IntProgressModel",
      "state": {
       "bar_style": "danger",
       "layout": "IPY_MODEL_e4af95d120ee4fad92b29f14630a71e3",
       "max": 20,
       "style": "IPY_MODEL_49f0e36773334c14a86e781d34a734c5",
       "value": 3
      }
     },
     "56499f6abcdf4dd2beac00cc88bbad44": {
      "model_module": "@jupyter-widgets/base",
      "model_module_version": "1.0.0",
      "model_name": "LayoutModel",
      "state": {}
     },
     "580bf4d1a18c44e0b7e20c37a74bc3bf": {
      "model_module": "@jupyter-widgets/base",
      "model_module_version": "1.0.0",
      "model_name": "LayoutModel",
      "state": {}
     },
     "581f23d1b32a4f38a12e9a2244520153": {
      "model_module": "@jupyter-widgets/base",
      "model_module_version": "1.0.0",
      "model_name": "LayoutModel",
      "state": {}
     },
     "5c0079bae4284ae3a0d4c7fd46dd8957": {
      "model_module": "@jupyter-widgets/base",
      "model_module_version": "1.0.0",
      "model_name": "LayoutModel",
      "state": {}
     },
     "5d2827db9b7b4d5fb3422e5fa5af4e23": {
      "model_module": "@jupyter-widgets/base",
      "model_module_version": "1.0.0",
      "model_name": "LayoutModel",
      "state": {}
     },
     "5d760d4fb55a4a13b6dc0b09ec5660cd": {
      "model_module": "@jupyter-widgets/base",
      "model_module_version": "1.0.0",
      "model_name": "LayoutModel",
      "state": {}
     },
     "61d3ba20cad5489b93d7e173fc569ae5": {
      "model_module": "@jupyter-widgets/controls",
      "model_module_version": "1.0.0",
      "model_name": "IntProgressModel",
      "state": {
       "bar_style": "success",
       "layout": "IPY_MODEL_915c0dec033f4c5fa4467e2ac66c296f",
       "max": 6,
       "style": "IPY_MODEL_b33dc72fd4b14e76815d5132283a421a",
       "value": 6
      }
     },
     "633cc7441a1c46c385bf869c57778941": {
      "model_module": "@jupyter-widgets/controls",
      "model_module_version": "1.0.0",
      "model_name": "DescriptionStyleModel",
      "state": {
       "description_width": ""
      }
     },
     "6425ac49951743d0872b0db477788a73": {
      "model_module": "@jupyter-widgets/base",
      "model_module_version": "1.0.0",
      "model_name": "LayoutModel",
      "state": {}
     },
     "64d4f0095aec4220af5c4200659b7e99": {
      "model_module": "@jupyter-widgets/controls",
      "model_module_version": "1.0.0",
      "model_name": "IntProgressModel",
      "state": {
       "bar_style": "danger",
       "layout": "IPY_MODEL_5d2827db9b7b4d5fb3422e5fa5af4e23",
       "max": 20,
       "style": "IPY_MODEL_08ed9e6426e545cd8acda5b874bbd4ea",
       "value": 12
      }
     },
     "6745c970616c4590b37c4bb472d9c1f8": {
      "model_module": "@jupyter-widgets/controls",
      "model_module_version": "1.0.0",
      "model_name": "IntProgressModel",
      "state": {
       "bar_style": "success",
       "layout": "IPY_MODEL_38aaba08d4eb46789c03c3cbcdb52263",
       "max": 6,
       "style": "IPY_MODEL_99338f57d7e04d27ac70ea99bc01d8e3",
       "value": 6
      }
     },
     "6bc662e7b8e44ad88c7f2a6726decfa0": {
      "model_module": "@jupyter-widgets/controls",
      "model_module_version": "1.0.0",
      "model_name": "HBoxModel",
      "state": {
       "children": [
        "IPY_MODEL_0822595ff5c74c1d83c88b9370f4b11b",
        "IPY_MODEL_22c42aca53b1440a9440822c634baf1c"
       ],
       "layout": "IPY_MODEL_88536699938c4fbda89cb2dcfe3f2fd3"
      }
     },
     "70673ed154bf43b8bb9f5f683b7c54a1": {
      "model_module": "@jupyter-widgets/controls",
      "model_module_version": "1.0.0",
      "model_name": "ProgressStyleModel",
      "state": {
       "description_width": ""
      }
     },
     "7199813d7b974ab1a6cbdb73ca9c2886": {
      "model_module": "@jupyter-widgets/controls",
      "model_module_version": "1.0.0",
      "model_name": "HBoxModel",
      "state": {
       "children": [
        "IPY_MODEL_c4e708ef2513450684168df4f50a669c",
        "IPY_MODEL_318c3615a64447b9847d5809aee413ea"
       ],
       "layout": "IPY_MODEL_2709b101d1c34f0f85e1bfdba7857994"
      }
     },
     "72307d098e23470898d6c1dcdeefe12b": {
      "model_module": "@jupyter-widgets/controls",
      "model_module_version": "1.0.0",
      "model_name": "ProgressStyleModel",
      "state": {
       "description_width": ""
      }
     },
     "733691adfb1a4cf78fa06af8281131e9": {
      "model_module": "@jupyter-widgets/controls",
      "model_module_version": "1.0.0",
      "model_name": "HTMLModel",
      "state": {
       "layout": "IPY_MODEL_badc07c37ad24abb9f1d943de6097d68",
       "style": "IPY_MODEL_23dbb6538e044be0a9e068f0c675692d",
       "value": "100% 100000/100000 [00:01&lt;00:00, 61441.88it/s]"
      }
     },
     "75424e1a24ba48bc9800a3a70e9275b5": {
      "model_module": "@jupyter-widgets/base",
      "model_module_version": "1.0.0",
      "model_name": "LayoutModel",
      "state": {}
     },
     "762fbb04134d4852a94eefa976d8d7f9": {
      "model_module": "@jupyter-widgets/controls",
      "model_module_version": "1.0.0",
      "model_name": "DescriptionStyleModel",
      "state": {
       "description_width": ""
      }
     },
     "79e1bdf8db214a078526e9c7a79fd057": {
      "model_module": "@jupyter-widgets/base",
      "model_module_version": "1.0.0",
      "model_name": "LayoutModel",
      "state": {}
     },
     "7c66240ce6454ce198f44f76d457ca7c": {
      "model_module": "@jupyter-widgets/controls",
      "model_module_version": "1.0.0",
      "model_name": "ProgressStyleModel",
      "state": {
       "description_width": ""
      }
     },
     "7cd55a6dfcd9459784fc13c7c9da4695": {
      "model_module": "@jupyter-widgets/base",
      "model_module_version": "1.0.0",
      "model_name": "LayoutModel",
      "state": {}
     },
     "7ddf7819c1ec479fb387b254e879dd67": {
      "model_module": "@jupyter-widgets/controls",
      "model_module_version": "1.0.0",
      "model_name": "HBoxModel",
      "state": {
       "children": [
        "IPY_MODEL_d7bab276b37e42bcb7308a2a33b43b49",
        "IPY_MODEL_2dd023db51b144d1aa1ca4d754de764e"
       ],
       "layout": "IPY_MODEL_8e6b74b538324d12821263391f64acbb"
      }
     },
     "8353c498167a4e0ebf0de55a549f4708": {
      "model_module": "@jupyter-widgets/controls",
      "model_module_version": "1.0.0",
      "model_name": "HTMLModel",
      "state": {
       "layout": "IPY_MODEL_a54ee1a2822244098cfe6313be05897c",
       "style": "IPY_MODEL_1ca81fb0e2f54a6cba2845d020cd61e7",
       "value": " 25% 5/20 [01:13&lt;03:40, 14.67s/it]"
      }
     },
     "8396dc422d00459fb903c0e80fca1bc4": {
      "model_module": "@jupyter-widgets/base",
      "model_module_version": "1.0.0",
      "model_name": "LayoutModel",
      "state": {}
     },
     "8409577b548d484ab9237f507e4c3b94": {
      "model_module": "@jupyter-widgets/controls",
      "model_module_version": "1.0.0",
      "model_name": "DescriptionStyleModel",
      "state": {
       "description_width": ""
      }
     },
     "857923f08a1d446e920708deda9756bd": {
      "model_module": "@jupyter-widgets/base",
      "model_module_version": "1.0.0",
      "model_name": "LayoutModel",
      "state": {}
     },
     "88536699938c4fbda89cb2dcfe3f2fd3": {
      "model_module": "@jupyter-widgets/base",
      "model_module_version": "1.0.0",
      "model_name": "LayoutModel",
      "state": {}
     },
     "887fe6ee1cd74823bd7acc30750b1c5a": {
      "model_module": "@jupyter-widgets/controls",
      "model_module_version": "1.0.0",
      "model_name": "IntProgressModel",
      "state": {
       "bar_style": "danger",
       "layout": "IPY_MODEL_995325e834fd4bfe8d78a23ddc5fb04c",
       "max": 20,
       "style": "IPY_MODEL_feaf5e36cdaa4f4e9e168028c3a619be",
       "value": 2
      }
     },
     "8a5a8df0f3434b278cb092bea74ba6d4": {
      "model_module": "@jupyter-widgets/controls",
      "model_module_version": "1.0.0",
      "model_name": "ProgressStyleModel",
      "state": {
       "description_width": ""
      }
     },
     "8bdbc964a5044acab3ac77a9547218d0": {
      "model_module": "@jupyter-widgets/base",
      "model_module_version": "1.0.0",
      "model_name": "LayoutModel",
      "state": {}
     },
     "8e6b74b538324d12821263391f64acbb": {
      "model_module": "@jupyter-widgets/base",
      "model_module_version": "1.0.0",
      "model_name": "LayoutModel",
      "state": {}
     },
     "8f2508299dfd42f292e37bbbb48afaec": {
      "model_module": "@jupyter-widgets/controls",
      "model_module_version": "1.0.0",
      "model_name": "DescriptionStyleModel",
      "state": {
       "description_width": ""
      }
     },
     "915c0dec033f4c5fa4467e2ac66c296f": {
      "model_module": "@jupyter-widgets/base",
      "model_module_version": "1.0.0",
      "model_name": "LayoutModel",
      "state": {}
     },
     "945be382301d4f27aec05b48256c6bba": {
      "model_module": "@jupyter-widgets/controls",
      "model_module_version": "1.0.0",
      "model_name": "DescriptionStyleModel",
      "state": {
       "description_width": ""
      }
     },
     "947d1a52691247f787b7d426f41f1873": {
      "model_module": "@jupyter-widgets/controls",
      "model_module_version": "1.0.0",
      "model_name": "HBoxModel",
      "state": {
       "children": [
        "IPY_MODEL_bb6cd1eea5864eec9cc951a402b65338",
        "IPY_MODEL_a9585e9c927143e5b2e2cb4bb78b58d0"
       ],
       "layout": "IPY_MODEL_580bf4d1a18c44e0b7e20c37a74bc3bf"
      }
     },
     "98c6271902a44f6489bee2c9bbffbdd8": {
      "model_module": "@jupyter-widgets/controls",
      "model_module_version": "1.0.0",
      "model_name": "ProgressStyleModel",
      "state": {
       "description_width": ""
      }
     },
     "99338f57d7e04d27ac70ea99bc01d8e3": {
      "model_module": "@jupyter-widgets/controls",
      "model_module_version": "1.0.0",
      "model_name": "ProgressStyleModel",
      "state": {
       "description_width": ""
      }
     },
     "995325e834fd4bfe8d78a23ddc5fb04c": {
      "model_module": "@jupyter-widgets/base",
      "model_module_version": "1.0.0",
      "model_name": "LayoutModel",
      "state": {}
     },
     "9e49a0d0290f45a99c2f615947530a78": {
      "model_module": "@jupyter-widgets/controls",
      "model_module_version": "1.0.0",
      "model_name": "IntProgressModel",
      "state": {
       "bar_style": "danger",
       "layout": "IPY_MODEL_44dd460ffb6a4b2c93d4d6133414e2a6",
       "max": 20,
       "style": "IPY_MODEL_8a5a8df0f3434b278cb092bea74ba6d4",
       "value": 5
      }
     },
     "a22c760526b64ff7a8d3379016cc9ed6": {
      "model_module": "@jupyter-widgets/base",
      "model_module_version": "1.0.0",
      "model_name": "LayoutModel",
      "state": {}
     },
     "a3cc4e39054e4325a1fdbc1076734a0b": {
      "model_module": "@jupyter-widgets/controls",
      "model_module_version": "1.0.0",
      "model_name": "ProgressStyleModel",
      "state": {
       "description_width": ""
      }
     },
     "a3f3326035404e51b32139966f6c8793": {
      "model_module": "@jupyter-widgets/controls",
      "model_module_version": "1.0.0",
      "model_name": "DescriptionStyleModel",
      "state": {
       "description_width": ""
      }
     },
     "a5167ae093454bc7835580db1b018f7a": {
      "model_module": "@jupyter-widgets/controls",
      "model_module_version": "1.0.0",
      "model_name": "HBoxModel",
      "state": {
       "children": [
        "IPY_MODEL_9e49a0d0290f45a99c2f615947530a78",
        "IPY_MODEL_befeae4926c743f48ecb4c35782781e5"
       ],
       "layout": "IPY_MODEL_eb03e7ac6d4d43b681cefe391242d910"
      }
     },
     "a54ee1a2822244098cfe6313be05897c": {
      "model_module": "@jupyter-widgets/base",
      "model_module_version": "1.0.0",
      "model_name": "LayoutModel",
      "state": {}
     },
     "a89c5c684e844f4a948654c2043497b6": {
      "model_module": "@jupyter-widgets/controls",
      "model_module_version": "1.0.0",
      "model_name": "HBoxModel",
      "state": {
       "children": [
        "IPY_MODEL_f77fa8323e8340ce9e26774683e8f4b9",
        "IPY_MODEL_f7fdc5496db141ea9f9c77bd72551c6a"
       ],
       "layout": "IPY_MODEL_a22c760526b64ff7a8d3379016cc9ed6"
      }
     },
     "a9585e9c927143e5b2e2cb4bb78b58d0": {
      "model_module": "@jupyter-widgets/controls",
      "model_module_version": "1.0.0",
      "model_name": "HTMLModel",
      "state": {
       "layout": "IPY_MODEL_518a340c5ed44f13802113f074462ec4",
       "style": "IPY_MODEL_945be382301d4f27aec05b48256c6bba",
       "value": "  0% 0/20 [00:00&lt;?, ?it/s]"
      }
     },
     "ab233fd903024993a7a274b8a2ff2f96": {
      "model_module": "@jupyter-widgets/controls",
      "model_module_version": "1.0.0",
      "model_name": "IntProgressModel",
      "state": {
       "bar_style": "danger",
       "layout": "IPY_MODEL_c33a6849063a420dac033fc4f07acd84",
       "max": 20,
       "style": "IPY_MODEL_18f9394d9ea64172b0bd9021fe6cbf87",
       "value": 5
      }
     },
     "ae9f871fdb144c5babe30cb980dbc24a": {
      "model_module": "@jupyter-widgets/controls",
      "model_module_version": "1.0.0",
      "model_name": "HBoxModel",
      "state": {
       "children": [
        "IPY_MODEL_492b86a1db604e25bc3539cb5ff4c0ea",
        "IPY_MODEL_3cb62a78a38640caa4339f4c2ec66eee"
       ],
       "layout": "IPY_MODEL_b673b625d27a43659ad1c7ae93af997c"
      }
     },
     "b2c5fe59c9eb43acb634a1c5414b01c1": {
      "model_module": "@jupyter-widgets/controls",
      "model_module_version": "1.0.0",
      "model_name": "DescriptionStyleModel",
      "state": {
       "description_width": ""
      }
     },
     "b33dc72fd4b14e76815d5132283a421a": {
      "model_module": "@jupyter-widgets/controls",
      "model_module_version": "1.0.0",
      "model_name": "ProgressStyleModel",
      "state": {
       "description_width": ""
      }
     },
     "b43d00773272448687eaac3507195dc6": {
      "model_module": "@jupyter-widgets/base",
      "model_module_version": "1.0.0",
      "model_name": "LayoutModel",
      "state": {}
     },
     "b673b625d27a43659ad1c7ae93af997c": {
      "model_module": "@jupyter-widgets/base",
      "model_module_version": "1.0.0",
      "model_name": "LayoutModel",
      "state": {}
     },
     "b94ac35e82a94796981813fb1426c00a": {
      "model_module": "@jupyter-widgets/controls",
      "model_module_version": "1.0.0",
      "model_name": "IntProgressModel",
      "state": {
       "bar_style": "success",
       "layout": "IPY_MODEL_4b50d57235494b42b78daeef68891391",
       "max": 100000,
       "style": "IPY_MODEL_72307d098e23470898d6c1dcdeefe12b",
       "value": 100000
      }
     },
     "badc07c37ad24abb9f1d943de6097d68": {
      "model_module": "@jupyter-widgets/base",
      "model_module_version": "1.0.0",
      "model_name": "LayoutModel",
      "state": {}
     },
     "bb6cd1eea5864eec9cc951a402b65338": {
      "model_module": "@jupyter-widgets/controls",
      "model_module_version": "1.0.0",
      "model_name": "IntProgressModel",
      "state": {
       "bar_style": "danger",
       "layout": "IPY_MODEL_3293a4ad56394a269057a658e9a04834",
       "max": 20,
       "style": "IPY_MODEL_7c66240ce6454ce198f44f76d457ca7c"
      }
     },
     "bd1b6840fd4a4464b9978e51299da0f7": {
      "model_module": "@jupyter-widgets/controls",
      "model_module_version": "1.0.0",
      "model_name": "DescriptionStyleModel",
      "state": {
       "description_width": ""
      }
     },
     "bededfbbe6e0404ea0d397668eee2f05": {
      "model_module": "@jupyter-widgets/controls",
      "model_module_version": "1.0.0",
      "model_name": "HBoxModel",
      "state": {
       "children": [
        "IPY_MODEL_61d3ba20cad5489b93d7e173fc569ae5",
        "IPY_MODEL_10dd1f214bda4e64bd6faee38a6cfd6a"
       ],
       "layout": "IPY_MODEL_7cd55a6dfcd9459784fc13c7c9da4695"
      }
     },
     "befeae4926c743f48ecb4c35782781e5": {
      "model_module": "@jupyter-widgets/controls",
      "model_module_version": "1.0.0",
      "model_name": "HTMLModel",
      "state": {
       "layout": "IPY_MODEL_75424e1a24ba48bc9800a3a70e9275b5",
       "style": "IPY_MODEL_4878b33b4da34940ba50adebdedce9f3",
       "value": " 25% 5/20 [00:59&lt;02:58, 11.92s/it]"
      }
     },
     "bf370ae8d0524e30b7dd2b9b0eaa5573": {
      "model_module": "@jupyter-widgets/controls",
      "model_module_version": "1.0.0",
      "model_name": "HTMLModel",
      "state": {
       "layout": "IPY_MODEL_fb7f967e8d9f4bf187eddec28b663727",
       "style": "IPY_MODEL_633cc7441a1c46c385bf869c57778941",
       "value": " 10% 2/20 [01:03&lt;09:31, 31.73s/it]"
      }
     },
     "c33a6849063a420dac033fc4f07acd84": {
      "model_module": "@jupyter-widgets/base",
      "model_module_version": "1.0.0",
      "model_name": "LayoutModel",
      "state": {}
     },
     "c38b0bc57610444ba253e878a0a2d366": {
      "model_module": "@jupyter-widgets/controls",
      "model_module_version": "1.0.0",
      "model_name": "HTMLModel",
      "state": {
       "layout": "IPY_MODEL_c628421170bd47d3b6475548ec22184b",
       "style": "IPY_MODEL_178c1f7288114aee8cdbf8b1f354011d",
       "value": "100% 6/6 [00:09&lt;00:00,  1.60s/it]"
      }
     },
     "c4e708ef2513450684168df4f50a669c": {
      "model_module": "@jupyter-widgets/controls",
      "model_module_version": "1.0.0",
      "model_name": "IntProgressModel",
      "state": {
       "bar_style": "danger",
       "layout": "IPY_MODEL_857923f08a1d446e920708deda9756bd",
       "max": 20,
       "style": "IPY_MODEL_a3cc4e39054e4325a1fdbc1076734a0b",
       "value": 4
      }
     },
     "c5d596d0cd75491ba3a5cef8c4841e94": {
      "model_module": "@jupyter-widgets/base",
      "model_module_version": "1.0.0",
      "model_name": "LayoutModel",
      "state": {}
     },
     "c628421170bd47d3b6475548ec22184b": {
      "model_module": "@jupyter-widgets/base",
      "model_module_version": "1.0.0",
      "model_name": "LayoutModel",
      "state": {}
     },
     "c694576d3af046c295e1e7a6aa2b2d4a": {
      "model_module": "@jupyter-widgets/base",
      "model_module_version": "1.0.0",
      "model_name": "LayoutModel",
      "state": {}
     },
     "ca00d286997a4cf7ba7ef6ea44068bd4": {
      "model_module": "@jupyter-widgets/base",
      "model_module_version": "1.0.0",
      "model_name": "LayoutModel",
      "state": {}
     },
     "ca8b62a010394894b70f6c9440372c10": {
      "model_module": "@jupyter-widgets/base",
      "model_module_version": "1.0.0",
      "model_name": "LayoutModel",
      "state": {}
     },
     "cb2ebde80e4743e3935aed1199858817": {
      "model_module": "@jupyter-widgets/controls",
      "model_module_version": "1.0.0",
      "model_name": "HTMLModel",
      "state": {
       "layout": "IPY_MODEL_ca8b62a010394894b70f6c9440372c10",
       "style": "IPY_MODEL_4d02fea1521a433c91465eea9284db84",
       "value": " 10% 2/20 [00:36&lt;05:31, 18.39s/it]"
      }
     },
     "cd219f256a6f430d9aca915010437bde": {
      "model_module": "@jupyter-widgets/controls",
      "model_module_version": "1.0.0",
      "model_name": "HBoxModel",
      "state": {
       "children": [
        "IPY_MODEL_51bb038dd6d9484285ac61fe678eb884",
        "IPY_MODEL_21b184815bd449a7add36d2ce8ca235c"
       ],
       "layout": "IPY_MODEL_3cdb408fb1cf45478b93dff0de6adc98"
      }
     },
     "d036c27e2bf54d1a9998546d4ff76a31": {
      "model_module": "@jupyter-widgets/controls",
      "model_module_version": "1.0.0",
      "model_name": "DescriptionStyleModel",
      "state": {
       "description_width": ""
      }
     },
     "d755b16f33d5475a9106336c3028f193": {
      "model_module": "@jupyter-widgets/controls",
      "model_module_version": "1.0.0",
      "model_name": "IntProgressModel",
      "state": {
       "bar_style": "danger",
       "layout": "IPY_MODEL_3ff1aede293d4e69875329e153fd86d8",
       "max": 20,
       "style": "IPY_MODEL_70673ed154bf43b8bb9f5f683b7c54a1",
       "value": 2
      }
     },
     "d7bab276b37e42bcb7308a2a33b43b49": {
      "model_module": "@jupyter-widgets/controls",
      "model_module_version": "1.0.0",
      "model_name": "IntProgressModel",
      "state": {
       "bar_style": "danger",
       "layout": "IPY_MODEL_f2a928ca420a45b091de34cc41259191",
       "max": 20,
       "style": "IPY_MODEL_2fac4f1a886b49b08219939012616399",
       "value": 6
      }
     },
     "e2e84f272b0d4dbf99b876d1b7608ad9": {
      "model_module": "@jupyter-widgets/controls",
      "model_module_version": "1.0.0",
      "model_name": "HBoxModel",
      "state": {
       "children": [
        "IPY_MODEL_ab233fd903024993a7a274b8a2ff2f96",
        "IPY_MODEL_8353c498167a4e0ebf0de55a549f4708"
       ],
       "layout": "IPY_MODEL_79e1bdf8db214a078526e9c7a79fd057"
      }
     },
     "e4af95d120ee4fad92b29f14630a71e3": {
      "model_module": "@jupyter-widgets/base",
      "model_module_version": "1.0.0",
      "model_name": "LayoutModel",
      "state": {}
     },
     "e9211337c9d04c3aa995f45bc3c24f43": {
      "model_module": "@jupyter-widgets/base",
      "model_module_version": "1.0.0",
      "model_name": "LayoutModel",
      "state": {}
     },
     "eb03e7ac6d4d43b681cefe391242d910": {
      "model_module": "@jupyter-widgets/base",
      "model_module_version": "1.0.0",
      "model_name": "LayoutModel",
      "state": {}
     },
     "f2a928ca420a45b091de34cc41259191": {
      "model_module": "@jupyter-widgets/base",
      "model_module_version": "1.0.0",
      "model_name": "LayoutModel",
      "state": {}
     },
     "f77fa8323e8340ce9e26774683e8f4b9": {
      "model_module": "@jupyter-widgets/controls",
      "model_module_version": "1.0.0",
      "model_name": "IntProgressModel",
      "state": {
       "bar_style": "danger",
       "layout": "IPY_MODEL_c694576d3af046c295e1e7a6aa2b2d4a",
       "max": 20,
       "style": "IPY_MODEL_43bb0647f428483c8015831ee2ea9763",
       "value": 5
      }
     },
     "f78fcdb84563436fa9b89dbf10feb05c": {
      "model_module": "@jupyter-widgets/controls",
      "model_module_version": "1.0.0",
      "model_name": "HBoxModel",
      "state": {
       "children": [
        "IPY_MODEL_6745c970616c4590b37c4bb472d9c1f8",
        "IPY_MODEL_c38b0bc57610444ba253e878a0a2d366"
       ],
       "layout": "IPY_MODEL_26b243097d9347069856d64c6dbfb7bc"
      }
     },
     "f7fdc5496db141ea9f9c77bd72551c6a": {
      "model_module": "@jupyter-widgets/controls",
      "model_module_version": "1.0.0",
      "model_name": "HTMLModel",
      "state": {
       "layout": "IPY_MODEL_e9211337c9d04c3aa995f45bc3c24f43",
       "style": "IPY_MODEL_0743e5fb369e4393940b7c0b3875a3c7",
       "value": " 25% 5/20 [00:58&lt;02:54, 11.66s/it]"
      }
     },
     "fb7f967e8d9f4bf187eddec28b663727": {
      "model_module": "@jupyter-widgets/base",
      "model_module_version": "1.0.0",
      "model_name": "LayoutModel",
      "state": {}
     },
     "feaf5e36cdaa4f4e9e168028c3a619be": {
      "model_module": "@jupyter-widgets/controls",
      "model_module_version": "1.0.0",
      "model_name": "ProgressStyleModel",
      "state": {
       "description_width": ""
      }
     },
     "ff6c70eeaaec4cc3bd030eaf43b98f38": {
      "model_module": "@jupyter-widgets/controls",
      "model_module_version": "1.0.0",
      "model_name": "HBoxModel",
      "state": {
       "children": [
        "IPY_MODEL_d755b16f33d5475a9106336c3028f193",
        "IPY_MODEL_cb2ebde80e4743e3935aed1199858817"
       ],
       "layout": "IPY_MODEL_5c0079bae4284ae3a0d4c7fd46dd8957"
      }
     }
    },
    "version_major": 2,
    "version_minor": 0
   }
  }
 },
 "nbformat": 4,
 "nbformat_minor": 2
}
